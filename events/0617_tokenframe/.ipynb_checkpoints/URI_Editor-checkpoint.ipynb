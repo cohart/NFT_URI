{
 "cells": [
  {
   "cell_type": "code",
   "execution_count": 1,
   "metadata": {},
   "outputs": [],
   "source": [
    "import os\n",
    "import json"
   ]
  },
  {
   "cell_type": "code",
   "execution_count": 2,
   "metadata": {},
   "outputs": [],
   "source": [
    "files = os.listdir(\"./TokenframeV1/\")"
   ]
  },
  {
   "cell_type": "code",
   "execution_count": 3,
   "metadata": {},
   "outputs": [],
   "source": [
    "from moviepy.editor import *"
   ]
  },
  {
   "cell_type": "code",
   "execution_count": 15,
   "metadata": {},
   "outputs": [],
   "source": [
    "for i, file in enumerate(files):\n",
    "    img_file = file\n",
    "    if file[-4:] == '.mp4':\n",
    "        video = VideoFileClip(f\"./TokenframeV1/{file}\")\n",
    "        img_file = file.replace('.mp4', '.jpg')\n",
    "        frame = video.save_frame(f\"./TokenframeV1/{img_file}\", t = 0)\n",
    "    with open(f\"{i}\", \"w\") as f:\n",
    "        json.dump({\n",
    "            \"id\": i,\n",
    "            \"name\": file,\n",
    "            \"description\": \"For Demo\",\n",
    "            \"image\": f\"https://nft.cohart.co/events/0617_tokenframe/TokenframeV1/{img_file}\",\n",
    "            \"animation_url\": f\"https://nft.cohart.co/events/0617_tokenframe/TokenframeV1/{file}\"\n",
    "        }, f, indent=2)"
   ]
  },
  {
   "cell_type": "code",
   "execution_count": 16,
   "metadata": {},
   "outputs": [
    {
     "name": "stdout",
     "output_type": "stream",
     "text": [
      "/bin/sh: term: command not found\r\n"
     ]
    }
   ],
   "source": [
    "!term ."
   ]
  },
  {
   "cell_type": "code",
   "execution_count": 17,
   "metadata": {},
   "outputs": [],
   "source": [
    "import requests"
   ]
  },
  {
   "cell_type": "code",
   "execution_count": 18,
   "metadata": {},
   "outputs": [],
   "source": [
    "res = requests.get(\"https://nft.cohart.co/events/0617_tokenframe/0\")"
   ]
  },
  {
   "cell_type": "markdown",
   "metadata": {},
   "source": [
    "# Put Back empty it!"
   ]
  },
  {
   "cell_type": "code",
   "execution_count": 2,
   "metadata": {
    "ExecuteTime": {
     "end_time": "2022-06-18T14:00:26.938175Z",
     "start_time": "2022-06-18T14:00:26.925192Z"
    }
   },
   "outputs": [],
   "source": [
    "for i in range(40):\n",
    "    with open(f\"{i}\", \"w\") as f:\n",
    "        json.dump({\n",
    "            \"id\": i,\n",
    "            \"name\": f'#{i}',\n",
    "            \"description\": \"For Demo\",\n",
    "            \"image\": f\"https://nft.cohart.co/events/0617_tokenframe/White.png\",\n",
    "            \"animation_url\": f\"https://nft.cohart.co/events/0617_tokenframe/White.png\"\n",
    "        }, f, indent=2)"
   ]
  },
  {
   "cell_type": "code",
   "execution_count": null,
   "metadata": {},
   "outputs": [],
   "source": []
  }
 ],
 "metadata": {
  "kernelspec": {
   "display_name": "Python 3",
   "language": "python",
   "name": "python3"
  },
  "language_info": {
   "codemirror_mode": {
    "name": "ipython",
    "version": 3
   },
   "file_extension": ".py",
   "mimetype": "text/x-python",
   "name": "python",
   "nbconvert_exporter": "python",
   "pygments_lexer": "ipython3",
   "version": "3.7.4"
  },
  "varInspector": {
   "cols": {
    "lenName": 16,
    "lenType": 16,
    "lenVar": 40
   },
   "kernels_config": {
    "python": {
     "delete_cmd_postfix": "",
     "delete_cmd_prefix": "del ",
     "library": "var_list.py",
     "varRefreshCmd": "print(var_dic_list())"
    },
    "r": {
     "delete_cmd_postfix": ") ",
     "delete_cmd_prefix": "rm(",
     "library": "var_list.r",
     "varRefreshCmd": "cat(var_dic_list()) "
    }
   },
   "types_to_exclude": [
    "module",
    "function",
    "builtin_function_or_method",
    "instance",
    "_Feature"
   ],
   "window_display": false
  }
 },
 "nbformat": 4,
 "nbformat_minor": 2
}
